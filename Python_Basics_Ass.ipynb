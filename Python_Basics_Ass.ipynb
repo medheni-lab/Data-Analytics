{
  "nbformat": 4,
  "nbformat_minor": 0,
  "metadata": {
    "colab": {
      "provenance": []
    },
    "kernelspec": {
      "name": "python3",
      "display_name": "Python 3"
    },
    "language_info": {
      "name": "python"
    }
  },
  "cells": [
    {
      "cell_type": "code",
      "source": [],
      "metadata": {
        "id": "62kF2FjKhNAd"
      },
      "execution_count": null,
      "outputs": []
    },
    {
      "cell_type": "markdown",
      "source": [
        "# **THEORY QUESTIONS:**\n",
        "\n",
        "1. What is Python, and why is it popular?\n",
        "\n",
        "   * Python is a high-level programming language known for its simplicity and\n",
        "   readability. It was created by Guido Van Rossum in 1991.\n",
        "   It is popular for:\n",
        "    * Easy to learn & readable\n",
        "    * Versatile\n",
        "    * Extensive libraries\n",
        "    * Huge active community\n",
        "\n",
        "2. What is an interpreter in Python?\n",
        "\n",
        "   * An interpreter in Python is a program that reads executes Python code line by line.\n",
        "   It translates the code into machine-readable instructions for the computer to understand and run.\n",
        "\n",
        "3. What are pre-defined keywords in Python?\n",
        "   \n",
        "   * Pre-defined keywords in Python are special words which have specific meanings and cannot be used as variable names, function names, identifiers.\n",
        "   eg: True, False, None, Try, def, if, elif, while, for, break, continue, etc.,\n",
        "\n",
        "4. Can keywords be used as variable names?\n",
        "\n",
        "   * No, keywords cannot be used as variable names because, these keywords have predefined meanings and functions in the language, using them as variable names would cause syntax errors.\n",
        "   e.g.,\n",
        "   class = \"DS\" #SyntaxError\n",
        "   if = 6 #SyntaxError\n",
        "\n",
        "5. What is mutability in Python?\n",
        "\n",
        "   * Value of the objects can be changed after its creation is called mutability.\n",
        "   \n",
        "    e.g: list, set.\n",
        "\n",
        "6. Why are lists mutable, but tuples are immutable?\n",
        "\n",
        "   * Elements in the list can be changed, added or removed after creation. Hence, lists are mutable.\n",
        "   e.g: [1,2,3,4]\n",
        "   Elements in tuple cannot be changed after creation. Hence, tuples are immutable.\n",
        "   e.g.: (1,2,3,4)\n",
        "\n",
        "7. What is the difference between “==” and “is” operators in Python?\n",
        "\n",
        "   *  \"==\" is known as Equality operator, equality operator checks whether two variables have the same content. Whereas \"is\" is know as identity operator, which checks whether two variables reference the same memory location.\n",
        "\n",
        "8. What are logical operators in Python?\n",
        "\n",
        "   * In Python, logical operators are also known as Boolean operators.\n",
        "   They are: and, or, not.\n",
        "\n",
        "    * 'and' - returns TRUE if both the conditions are True\n",
        "    * 'or' - returns TRUE if at leat one  condition is True\n",
        "    * 'not' - Reverses the boolean value which relusts FALSE for True.\n",
        "\n",
        "9. What is type casting in Python?\n",
        "\n",
        "   * The process of changing the data type of a value or an object is called type casting.\n",
        "   If there is a missmatch between the data types then we use type casting while execution/computation.\n",
        "\n",
        "10. What is the difference between implict and explicit type casting?\n",
        "   \n",
        "   *\n",
        "      * Implicit is known as automatic conversion whereas, explicit is known as mannual conversion\n",
        "      * Python performs implicit type casting automatically without data loss\n",
        "      e.g: integer to float\n",
        "      * Python performs explicit type casting mannually may be a risk of data loss.\n",
        "      e.g: string to integer, float to integer\n",
        "      Functions we use: int(), float(), str(),etc.\n",
        "\n",
        "11. What is the purpose of conditional statements in Python?\n",
        "\n",
        "   * Conditional statements helps to code decisions based on some preconditions.\n",
        "    They are:\n",
        "     * if\n",
        "     * if else\n",
        "     * if elif else\n",
        "     * nested if else\n",
        "\n",
        "12. How does the elif statement work?\n",
        "\n",
        "   *\n",
        "     * The program checks the 'if' condition first.\n",
        "     * If the 'if' condition is 'False' then it moves to the first 'elif' condition.\n",
        "     * If an 'elif' condition is 'True' then its block executes and the rest are skipped.\n",
        "     * If 'if' or 'elif' conditions are not 'True' then else block executes.\n",
        "\n",
        "13. What is the difference between for and while loop?\n",
        "\n",
        "   * 'while loop' repeatedly executes the block of code until a condition is met.\n",
        "   Wheras 'for loop' iterate over a sequence of elements.\n",
        "    * while loop syntax:\n",
        "      while condition\n",
        "      block of chain\n",
        "      \n",
        "14. Describe a scenario where a while loop is more suitable than a for loop?\n",
        "\n",
        "   * A while loop is more suitable when the number of iterations is unknown and depends on a condition being met. e.g: User login attempt."
      ],
      "metadata": {
        "id": "GVdkhvz1hQgr"
      }
    },
    {
      "cell_type": "code",
      "source": [],
      "metadata": {
        "id": "y3zDXgxJMAsd"
      },
      "execution_count": null,
      "outputs": []
    },
    {
      "cell_type": "markdown",
      "source": [
        "# **Practical Questions**"
      ],
      "metadata": {
        "id": "JIU25T4rMIO1"
      }
    },
    {
      "cell_type": "code",
      "source": [
        "#1. Write a Python program to print \"Hello, World!\".\n",
        "\n",
        "print(\"Hello World!\")"
      ],
      "metadata": {
        "colab": {
          "base_uri": "https://localhost:8080/"
        },
        "id": "R7MnuBb4vhod",
        "outputId": "bf096c2f-07ad-40a2-8912-34dd103e2f17"
      },
      "execution_count": 6,
      "outputs": [
        {
          "output_type": "stream",
          "name": "stdout",
          "text": [
            "Hello World!\n"
          ]
        }
      ]
    },
    {
      "cell_type": "code",
      "source": [
        "#2. Write a Python program that displays your name and age?\n",
        "\n",
        "name = \"Ajay\"\n",
        "age = 20\n",
        "\n",
        "print(\"My name is \", name)\n",
        "print(\"My age is \", age)"
      ],
      "metadata": {
        "colab": {
          "base_uri": "https://localhost:8080/"
        },
        "id": "QVtabbJdM7um",
        "outputId": "9f9e3b73-924e-4526-8a53-c7f6bea25f7d"
      },
      "execution_count": 8,
      "outputs": [
        {
          "output_type": "stream",
          "name": "stdout",
          "text": [
            "My name is  Ajay\n",
            "My age is  20\n"
          ]
        }
      ]
    },
    {
      "cell_type": "code",
      "source": [
        "#3. Write code to print all the pre-defined keywords in Python using the keyword library?\n",
        "\n",
        "help('keywords')"
      ],
      "metadata": {
        "colab": {
          "base_uri": "https://localhost:8080/"
        },
        "id": "17e4x3E7NjHr",
        "outputId": "68a951a9-0f8e-4e3c-bee2-35734a01479b"
      },
      "execution_count": 12,
      "outputs": [
        {
          "output_type": "stream",
          "name": "stdout",
          "text": [
            "\n",
            "Here is a list of the Python keywords.  Enter any keyword to get more help.\n",
            "\n",
            "False               class               from                or\n",
            "None                continue            global              pass\n",
            "True                def                 if                  raise\n",
            "and                 del                 import              return\n",
            "as                  elif                in                  try\n",
            "assert              else                is                  while\n",
            "async               except              lambda              with\n",
            "await               finally             nonlocal            yield\n",
            "break               for                 not                 \n",
            "\n"
          ]
        }
      ]
    },
    {
      "cell_type": "code",
      "source": [
        "# 4 Write a program that checks if a given word is a Python keyword?\n",
        "\n",
        "import keyword\n",
        "\n",
        "word = input(\"Enter a word: \")\n",
        "if keyword.iskeyword(word):\n",
        "  print(f\" '{word}' is a Python keyword.\")\n",
        "else:\n",
        "  print(f\" '{word}' is not a Python keyword\")\n"
      ],
      "metadata": {
        "colab": {
          "base_uri": "https://localhost:8080/"
        },
        "id": "H4jBTfopN4KZ",
        "outputId": "2cd86a9c-8c0e-46e4-ecd1-3813d26a2af8"
      },
      "execution_count": 15,
      "outputs": [
        {
          "output_type": "stream",
          "name": "stdout",
          "text": [
            "Enter a word: if\n",
            " 'if' is a Python keyword.\n"
          ]
        }
      ]
    },
    {
      "cell_type": "code",
      "source": [
        "# 5.Create a list and tuple in Python, and demonstrate how attempting to change an element works differently for each?\n",
        "\n",
        "#'list' object supports item assignment\n",
        "list = [1,2,3,4]\n",
        "print(\"Original list:\",list)\n",
        "list[0]= 100   #changing an element in the list\n",
        "print(\"New list:\", list)\n",
        "\n",
        "\n",
        "#'tuple' object does not support item assignment\n",
        "tuple= (4,5,6,7)\n",
        "print(\"Original tuple:\", tuple)\n",
        "tuple[1]= 10  #changing an element in the tuple\n",
        "print(\"New tuple:\", tuple)\n"
      ],
      "metadata": {
        "colab": {
          "base_uri": "https://localhost:8080/",
          "height": 256
        },
        "id": "b6S7mzjZR-LY",
        "outputId": "2d039dcf-a733-4dc8-e31b-293545ef148d"
      },
      "execution_count": 30,
      "outputs": [
        {
          "output_type": "stream",
          "name": "stdout",
          "text": [
            "Original list: [1, 2, 3, 4]\n",
            "New list: [100, 2, 3, 4]\n",
            "Original tuple: (4, 5, 6, 7)\n"
          ]
        },
        {
          "output_type": "error",
          "ename": "TypeError",
          "evalue": "'tuple' object does not support item assignment",
          "traceback": [
            "\u001b[0;31m---------------------------------------------------------------------------\u001b[0m",
            "\u001b[0;31mTypeError\u001b[0m                                 Traceback (most recent call last)",
            "\u001b[0;32m<ipython-input-30-7c7490a8d4da>\u001b[0m in \u001b[0;36m<cell line: 0>\u001b[0;34m()\u001b[0m\n\u001b[1;32m     11\u001b[0m \u001b[0mtuple\u001b[0m\u001b[0;34m=\u001b[0m \u001b[0;34m(\u001b[0m\u001b[0;36m4\u001b[0m\u001b[0;34m,\u001b[0m\u001b[0;36m5\u001b[0m\u001b[0;34m,\u001b[0m\u001b[0;36m6\u001b[0m\u001b[0;34m,\u001b[0m\u001b[0;36m7\u001b[0m\u001b[0;34m)\u001b[0m\u001b[0;34m\u001b[0m\u001b[0;34m\u001b[0m\u001b[0m\n\u001b[1;32m     12\u001b[0m \u001b[0mprint\u001b[0m\u001b[0;34m(\u001b[0m\u001b[0;34m\"Original tuple:\"\u001b[0m\u001b[0;34m,\u001b[0m \u001b[0mtuple\u001b[0m\u001b[0;34m)\u001b[0m\u001b[0;34m\u001b[0m\u001b[0;34m\u001b[0m\u001b[0m\n\u001b[0;32m---> 13\u001b[0;31m \u001b[0mtuple\u001b[0m\u001b[0;34m[\u001b[0m\u001b[0;36m1\u001b[0m\u001b[0;34m]\u001b[0m\u001b[0;34m=\u001b[0m \u001b[0;36m10\u001b[0m  \u001b[0;31m#changing an element in the tuple\u001b[0m\u001b[0;34m\u001b[0m\u001b[0;34m\u001b[0m\u001b[0m\n\u001b[0m\u001b[1;32m     14\u001b[0m \u001b[0mprint\u001b[0m\u001b[0;34m(\u001b[0m\u001b[0;34m\"New tuple:\"\u001b[0m\u001b[0;34m,\u001b[0m \u001b[0mtuple\u001b[0m\u001b[0;34m)\u001b[0m\u001b[0;34m\u001b[0m\u001b[0;34m\u001b[0m\u001b[0m\n",
            "\u001b[0;31mTypeError\u001b[0m: 'tuple' object does not support item assignment"
          ]
        }
      ]
    },
    {
      "cell_type": "code",
      "source": [
        "#6. Write a function to demonstrate the behavior of mutable and immutable arguments?\n",
        "\n",
        "#'list' is mutable\n",
        "list = [1,2,3,4]\n",
        "print(\"Original list:\",list)\n",
        "list[0]= 100   #changing an element in the list\n",
        "print(\"Mutable list:\", list)\n",
        "\n",
        "\n",
        "#'tuple' is immutable\n",
        "tuple= (4,5,6,7)\n",
        "print(\"Original tuple:\", tuple)\n",
        "tuple[1]= 10  #changing an element in the tuple\n",
        "print(\"Immutable tuple:\", tuple)\n"
      ],
      "metadata": {
        "colab": {
          "base_uri": "https://localhost:8080/",
          "height": 256
        },
        "id": "ySDkIDvGU9Cy",
        "outputId": "a213da95-42be-4ebe-a2d6-1fd98e1ff7f8"
      },
      "execution_count": 32,
      "outputs": [
        {
          "output_type": "stream",
          "name": "stdout",
          "text": [
            "Original list: [1, 2, 3, 4]\n",
            "Mutable list: [100, 2, 3, 4]\n",
            "Original tuple: (4, 5, 6, 7)\n"
          ]
        },
        {
          "output_type": "error",
          "ename": "TypeError",
          "evalue": "'tuple' object does not support item assignment",
          "traceback": [
            "\u001b[0;31m---------------------------------------------------------------------------\u001b[0m",
            "\u001b[0;31mTypeError\u001b[0m                                 Traceback (most recent call last)",
            "\u001b[0;32m<ipython-input-32-c324e38505ae>\u001b[0m in \u001b[0;36m<cell line: 0>\u001b[0;34m()\u001b[0m\n\u001b[1;32m     11\u001b[0m \u001b[0mtuple\u001b[0m\u001b[0;34m=\u001b[0m \u001b[0;34m(\u001b[0m\u001b[0;36m4\u001b[0m\u001b[0;34m,\u001b[0m\u001b[0;36m5\u001b[0m\u001b[0;34m,\u001b[0m\u001b[0;36m6\u001b[0m\u001b[0;34m,\u001b[0m\u001b[0;36m7\u001b[0m\u001b[0;34m)\u001b[0m\u001b[0;34m\u001b[0m\u001b[0;34m\u001b[0m\u001b[0m\n\u001b[1;32m     12\u001b[0m \u001b[0mprint\u001b[0m\u001b[0;34m(\u001b[0m\u001b[0;34m\"Original tuple:\"\u001b[0m\u001b[0;34m,\u001b[0m \u001b[0mtuple\u001b[0m\u001b[0;34m)\u001b[0m\u001b[0;34m\u001b[0m\u001b[0;34m\u001b[0m\u001b[0m\n\u001b[0;32m---> 13\u001b[0;31m \u001b[0mtuple\u001b[0m\u001b[0;34m[\u001b[0m\u001b[0;36m1\u001b[0m\u001b[0;34m]\u001b[0m\u001b[0;34m=\u001b[0m \u001b[0;36m10\u001b[0m  \u001b[0;31m#changing an element in the tuple\u001b[0m\u001b[0;34m\u001b[0m\u001b[0;34m\u001b[0m\u001b[0m\n\u001b[0m\u001b[1;32m     14\u001b[0m \u001b[0mprint\u001b[0m\u001b[0;34m(\u001b[0m\u001b[0;34m\"Immutable tuple:\"\u001b[0m\u001b[0;34m,\u001b[0m \u001b[0mtuple\u001b[0m\u001b[0;34m)\u001b[0m\u001b[0;34m\u001b[0m\u001b[0;34m\u001b[0m\u001b[0m\n",
            "\u001b[0;31mTypeError\u001b[0m: 'tuple' object does not support item assignment"
          ]
        }
      ]
    },
    {
      "cell_type": "code",
      "source": [
        "#7. Write a function to demonstrate the behavior of mutable and immutable arguments?\n",
        "\n",
        "#'list' is mutable\n",
        "list = [1,2,3,4]\n",
        "print(\"Original list:\",list)\n",
        "list[0]= 100   #changing an element in the list\n",
        "print(\"Mutable list:\", list)\n",
        "\n",
        "\n",
        "#'tuple' is immutable\n",
        "tuple= (4,5,6,7)\n",
        "print(\"Original tuple:\", tuple)\n",
        "tuple[1]= 10 #changing an element in the tuple\n",
        "print(\"Immutable tuple:\", tuple)\n"
      ],
      "metadata": {
        "colab": {
          "base_uri": "https://localhost:8080/",
          "height": 256
        },
        "id": "48CC_v9LYDST",
        "outputId": "e9cbbecf-4177-4a9f-c8fd-157bd8aea6f6"
      },
      "execution_count": 33,
      "outputs": [
        {
          "output_type": "stream",
          "name": "stdout",
          "text": [
            "Original list: [1, 2, 3, 4]\n",
            "Mutable list: [100, 2, 3, 4]\n",
            "Original tuple: (4, 5, 6, 7)\n"
          ]
        },
        {
          "output_type": "error",
          "ename": "TypeError",
          "evalue": "'tuple' object does not support item assignment",
          "traceback": [
            "\u001b[0;31m---------------------------------------------------------------------------\u001b[0m",
            "\u001b[0;31mTypeError\u001b[0m                                 Traceback (most recent call last)",
            "\u001b[0;32m<ipython-input-33-bd72d8a5ebf0>\u001b[0m in \u001b[0;36m<cell line: 0>\u001b[0;34m()\u001b[0m\n\u001b[1;32m     11\u001b[0m \u001b[0mtuple\u001b[0m\u001b[0;34m=\u001b[0m \u001b[0;34m(\u001b[0m\u001b[0;36m4\u001b[0m\u001b[0;34m,\u001b[0m\u001b[0;36m5\u001b[0m\u001b[0;34m,\u001b[0m\u001b[0;36m6\u001b[0m\u001b[0;34m,\u001b[0m\u001b[0;36m7\u001b[0m\u001b[0;34m)\u001b[0m\u001b[0;34m\u001b[0m\u001b[0;34m\u001b[0m\u001b[0m\n\u001b[1;32m     12\u001b[0m \u001b[0mprint\u001b[0m\u001b[0;34m(\u001b[0m\u001b[0;34m\"Original tuple:\"\u001b[0m\u001b[0;34m,\u001b[0m \u001b[0mtuple\u001b[0m\u001b[0;34m)\u001b[0m\u001b[0;34m\u001b[0m\u001b[0;34m\u001b[0m\u001b[0m\n\u001b[0;32m---> 13\u001b[0;31m \u001b[0mtuple\u001b[0m\u001b[0;34m[\u001b[0m\u001b[0;36m1\u001b[0m\u001b[0;34m]\u001b[0m\u001b[0;34m=\u001b[0m \u001b[0;36m10\u001b[0m  \u001b[0;31m#changing an element in the tuple\u001b[0m\u001b[0;34m\u001b[0m\u001b[0;34m\u001b[0m\u001b[0m\n\u001b[0m\u001b[1;32m     14\u001b[0m \u001b[0mprint\u001b[0m\u001b[0;34m(\u001b[0m\u001b[0;34m\"Immutable tuple:\"\u001b[0m\u001b[0;34m,\u001b[0m \u001b[0mtuple\u001b[0m\u001b[0;34m)\u001b[0m\u001b[0;34m\u001b[0m\u001b[0;34m\u001b[0m\u001b[0m\n",
            "\u001b[0;31mTypeError\u001b[0m: 'tuple' object does not support item assignment"
          ]
        }
      ]
    },
    {
      "cell_type": "code",
      "source": [
        "#8. Write a program to demonstrate the use of logical operators?\n",
        "\n",
        "a = True\n",
        "b = False\n",
        "\n",
        "# and operator\n",
        "print (\"AND operator:\")\n",
        "print (\"a and b:\", a and b)\n",
        "print (\"b and b:\", b and b)\n",
        "print (\"b and a:\", b and a)\n",
        "print (\"a and a:\", a and a)\n",
        "\n",
        "# or operator\n",
        "print (\"\\nOR operator:\")\n",
        "print (\"a or b:\", a or b)\n",
        "print (\"b or b:\", b or b)\n",
        "print (\"b or a:\", b or a)\n",
        "print (\"a or a:\", a or a)\n",
        "\n",
        "# not operator\n",
        "print (\"\\nNOT operator:\")\n",
        "print (\"not a:\", not a)\n",
        "print (\"not b:\", not b)"
      ],
      "metadata": {
        "colab": {
          "base_uri": "https://localhost:8080/"
        },
        "id": "ZSV9uuqcZxGS",
        "outputId": "84bcace5-a098-4abc-ec45-a18382babdc9"
      },
      "execution_count": 49,
      "outputs": [
        {
          "output_type": "stream",
          "name": "stdout",
          "text": [
            "AND operator:\n",
            "a and b: False\n",
            "b and b: False\n",
            "b and a: False\n",
            "a and a: True\n",
            "\n",
            "OR operator:\n",
            "a or b: True\n",
            "b or b: False\n",
            "b or a: True\n",
            "a or a: True\n",
            "\n",
            "NOT operator:\n",
            "not a: False\n",
            "not b: True\n"
          ]
        }
      ]
    },
    {
      "cell_type": "code",
      "source": [
        "#9. Write a Python program to convert user input from string to integer, float, and boolean types?\n",
        "\n",
        "user_value = (input(\"Enter a value: \"))\n",
        "\n",
        "# string to integer\n",
        "Integer = int(user_value)\n",
        "print(\"Integer:\", Integer)\n",
        "\n",
        "# string to float\n",
        "Float = float(user_value)\n",
        "print(\"Float:\", Float)\n",
        "\n",
        "# string to boolean\n",
        "Boolean = bool(user_value)\n",
        "print(\"Boolean:\", Boolean)"
      ],
      "metadata": {
        "colab": {
          "base_uri": "https://localhost:8080/"
        },
        "id": "chIj46NwhlN0",
        "outputId": "65dd4098-4a53-4296-d62d-2486a5c88f71"
      },
      "execution_count": 61,
      "outputs": [
        {
          "output_type": "stream",
          "name": "stdout",
          "text": [
            "Enter a value: 56\n",
            "Integer: 56\n",
            "Float: 56.0\n",
            "Boolean: True\n"
          ]
        }
      ]
    },
    {
      "cell_type": "code",
      "source": [
        "#10. Write code to demonstrate type casting with list elements?\n",
        "\n",
        "list = [1, 5, 7.3, 4, False]\n",
        "\n",
        "#type casting to float\n",
        "float_list = [float(item) for item in list]\n",
        "print(\"List converted to Float\", float_list)\n",
        "\n",
        "#type casting to Integer\n",
        "integer_list = [int(item) for item in list]\n",
        "print(\"List converted to Integer\", integer_list)\n",
        "\n",
        "#type casting to boolean\n",
        "boolean_list = [bool(item) for item in list]\n",
        "print(\"List converted to Boolean\", boolean_list)\n",
        "\n",
        "#type casting to string\n",
        "string_list = [int(item) for item in list]\n",
        "print(\"List converted to String\", string_list)\n"
      ],
      "metadata": {
        "colab": {
          "base_uri": "https://localhost:8080/"
        },
        "id": "ICNNRhEIkoJR",
        "outputId": "e0fa4327-4dfe-489a-cb17-b50906bbbf87"
      },
      "execution_count": 78,
      "outputs": [
        {
          "output_type": "stream",
          "name": "stdout",
          "text": [
            "List converted to Float [1.0, 5.0, 7.3, 4.0, 0.0]\n",
            "List converted to Integer [1, 5, 7, 4, 0]\n",
            "List converted to Boolean [True, True, True, True, False]\n",
            "List converted to String [1, 5, 7, 4, 0]\n"
          ]
        }
      ]
    },
    {
      "cell_type": "code",
      "source": [
        "#11.Write a program that checks if a number is positive, negative, or zero?\n",
        "\n",
        "a=int(input(\"Enter a number:\"))\n",
        "if a > 0:\n",
        "  print(\"The number is POSITIVE\")\n",
        "elif a<0:\n",
        "  print(\"The number is NEGATIVE\")\n",
        "else:\n",
        "  print(\"The number is ZERO\")"
      ],
      "metadata": {
        "colab": {
          "base_uri": "https://localhost:8080/"
        },
        "id": "sg0ZRsV7l-rQ",
        "outputId": "cdd2f3b7-4e36-48d4-fd12-e560ac395a64"
      },
      "execution_count": 84,
      "outputs": [
        {
          "output_type": "stream",
          "name": "stdout",
          "text": [
            "Enter a number:-75\n",
            "The number is NEGATIVE\n"
          ]
        }
      ]
    },
    {
      "cell_type": "code",
      "source": [
        "#12. Write a for loop to print numbers from 1 to 100?\n",
        "\n",
        "\n",
        "for num in range(1,100):\n",
        "  print(num)"
      ],
      "metadata": {
        "colab": {
          "base_uri": "https://localhost:8080/"
        },
        "id": "J7Nf4CVSuEJ4",
        "outputId": "64303fb2-575b-408d-f7ce-1a19fd92ad6f"
      },
      "execution_count": 85,
      "outputs": [
        {
          "output_type": "stream",
          "name": "stdout",
          "text": [
            "1\n",
            "2\n",
            "3\n",
            "4\n",
            "5\n",
            "6\n",
            "7\n",
            "8\n",
            "9\n",
            "10\n",
            "11\n",
            "12\n",
            "13\n",
            "14\n",
            "15\n",
            "16\n",
            "17\n",
            "18\n",
            "19\n",
            "20\n",
            "21\n",
            "22\n",
            "23\n",
            "24\n",
            "25\n",
            "26\n",
            "27\n",
            "28\n",
            "29\n",
            "30\n",
            "31\n",
            "32\n",
            "33\n",
            "34\n",
            "35\n",
            "36\n",
            "37\n",
            "38\n",
            "39\n",
            "40\n",
            "41\n",
            "42\n",
            "43\n",
            "44\n",
            "45\n",
            "46\n",
            "47\n",
            "48\n",
            "49\n",
            "50\n",
            "51\n",
            "52\n",
            "53\n",
            "54\n",
            "55\n",
            "56\n",
            "57\n",
            "58\n",
            "59\n",
            "60\n",
            "61\n",
            "62\n",
            "63\n",
            "64\n",
            "65\n",
            "66\n",
            "67\n",
            "68\n",
            "69\n",
            "70\n",
            "71\n",
            "72\n",
            "73\n",
            "74\n",
            "75\n",
            "76\n",
            "77\n",
            "78\n",
            "79\n",
            "80\n",
            "81\n",
            "82\n",
            "83\n",
            "84\n",
            "85\n",
            "86\n",
            "87\n",
            "88\n",
            "89\n",
            "90\n",
            "91\n",
            "92\n",
            "93\n",
            "94\n",
            "95\n",
            "96\n",
            "97\n",
            "98\n",
            "99\n"
          ]
        }
      ]
    },
    {
      "cell_type": "code",
      "source": [
        "#13. Write a Python program to find the sum of all even numbers between 1 and 500\n",
        "\n",
        "sum_even=0\n",
        "for num in range(0, 501, 2):\n",
        "  sum_even += num\n",
        "print(\"Sum of all even number betwee 1 to 500:\",sum_even)"
      ],
      "metadata": {
        "colab": {
          "base_uri": "https://localhost:8080/"
        },
        "id": "wnlQFDTivDwg",
        "outputId": "6a866b15-2df3-4cbd-d5ce-fe285d4591f4"
      },
      "execution_count": 104,
      "outputs": [
        {
          "output_type": "stream",
          "name": "stdout",
          "text": [
            "Sum of all even number betwee 1 to 500: 62750\n"
          ]
        }
      ]
    },
    {
      "cell_type": "code",
      "source": [
        "#14.Write a program to reverse a string using a while loop?\n",
        "\n",
        "string =input(\"Enter a string:\")\n",
        "i = len(string)\n",
        "\n",
        "while i>0:\n",
        "  print(string[i-1], end = \"\")\n",
        "  i=i-1"
      ],
      "metadata": {
        "colab": {
          "base_uri": "https://localhost:8080/"
        },
        "id": "IE8KOD8SwMqy",
        "outputId": "4a2cf3a2-228c-4f49-f676-51fe1862ee26"
      },
      "execution_count": 119,
      "outputs": [
        {
          "output_type": "stream",
          "name": "stdout",
          "text": [
            "Enter a string:pwskills\n",
            "sllikswp"
          ]
        }
      ]
    },
    {
      "cell_type": "code",
      "source": [],
      "metadata": {
        "id": "D3h9f4VXANZu"
      },
      "execution_count": null,
      "outputs": []
    },
    {
      "cell_type": "code",
      "source": [
        "#15 Write a Python program to calculate the factorial of a number provided by the user using a while loop?\n",
        "\n",
        "def factorial(n):\n",
        "    if n < 0:\n",
        "        return \"Factorial is not defined for negative numbers.\"\n",
        "    result = 1\n",
        "    while n > 0:\n",
        "        result *= n\n",
        "        n -= 1\n",
        "    return result\n",
        "\n",
        "# Taking input from the user\n",
        "num = int(input(\"Enter a number: \"))\n",
        "print(f\"Factorial of {num} is {factorial(num)}\")\n"
      ],
      "metadata": {
        "colab": {
          "base_uri": "https://localhost:8080/"
        },
        "id": "tJjgnwlJ04m2",
        "outputId": "ae33ec5d-27fa-4317-8783-ffaafa60b39f"
      },
      "execution_count": 133,
      "outputs": [
        {
          "output_type": "stream",
          "name": "stdout",
          "text": [
            "Enter a number: 5\n",
            "Factorial of 5 is 120\n"
          ]
        }
      ]
    },
    {
      "cell_type": "code",
      "source": [],
      "metadata": {
        "id": "fotMe4v4CFPB"
      },
      "execution_count": 133,
      "outputs": []
    }
  ]
}